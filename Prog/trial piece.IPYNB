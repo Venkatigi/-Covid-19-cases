{
 "cells": [
  {
   "cell_type": "code",
   "execution_count": 2,
   "metadata": {},
   "outputs": [],
   "source": [
    "import pandas as pd"
   ]
  },
  {
   "cell_type": "code",
   "execution_count": 3,
   "metadata": {},
   "outputs": [],
   "source": [
    "#reading the dataset\n",
    "data_train = pd.read_csv('../dataset/train_data_covid.csv')\n",
    "data_test = pd.read_csv('../dataset/test_data_covid.csv')"
   ]
  },
  {
   "cell_type": "code",
   "execution_count": 4,
   "metadata": {},
   "outputs": [],
   "source": [
    "#taking the required features\n",
    "data_train_abs = data_train[[\"Date\", \"State/UnionTerritory\", \"Cured\", \"Deaths\", \"Confirmed\", \"OxygenTanks\", \"PopulationDensityPerSqKm\"]]\n",
    "data_test_abs = data_test[[\"Date\", \"State/UnionTerritory\", \"Cured\", \"Confirmed\", \"OxygenTanks\", \"PopulationDensityPerSqKm\"]]"
   ]
  },
  {
   "cell_type": "code",
   "execution_count": 5,
   "metadata": {},
   "outputs": [
    {
     "name": "stdout",
     "output_type": "stream",
     "text": [
      "             Date State/UnionTerritory   Cured  Deaths  Confirmed  \\\n",
      "0      2020-01-30               Kerala       0       0          1   \n",
      "1      2020-01-31               Kerala       0       0          1   \n",
      "2      2020-02-01               Kerala       0       0          2   \n",
      "3      2020-02-02               Kerala       0       0          3   \n",
      "4      2020-02-03               Kerala       0       0          3   \n",
      "...           ...                  ...     ...     ...        ...   \n",
      "14987  2021-05-17                  Goa  105505    2099     135856   \n",
      "14995  2021-05-17               Ladakh   14741     165      16452   \n",
      "14996  2021-05-17          Lakshadweep    3633      14       4767   \n",
      "14999  2021-05-17              Manipur   32674     578      39729   \n",
      "15000  2021-05-17            Meghalaya   18478     320      23332   \n",
      "\n",
      "       OxygenTanks  PopulationDensityPerSqKm  \n",
      "0             8262                       867  \n",
      "1             9136                        61  \n",
      "2             3826                       316  \n",
      "3             9789                       806  \n",
      "4              882                       369  \n",
      "...            ...                       ...  \n",
      "14987         2348                        90  \n",
      "14995         5849                       773  \n",
      "14996         4046                       490  \n",
      "14999          576                       296  \n",
      "15000          191                       514  \n",
      "\n",
      "[10953 rows x 7 columns]\n"
     ]
    }
   ],
   "source": [
    "def remove_outliers_iqr(df, columns):\n",
    "    \n",
    "    df_cleaned = df.copy()\n",
    "\n",
    "    for column in columns:\n",
    "        q1 = df_cleaned[column].quantile(0.25)\n",
    "        q3 = df_cleaned[column].quantile(0.75)\n",
    "\n",
    "        IQR = q3 - q1\n",
    "        upper_limit = q3 + 1.5 * IQR\n",
    "        lower_limit = q1 - 1.5 * IQR\n",
    "\n",
    "        df_cleaned = df_cleaned[((df_cleaned[column] >= lower_limit) & (df_cleaned[column] <= upper_limit))]\n",
    "\n",
    "    return df_cleaned\n",
    "\n",
    "# Specify the columns for outlier removal\n",
    "columns_to_clean = [\"Cured\", \"Confirmed\", \"Deaths\", \"OxygenTanks\", \"PopulationDensityPerSqKm\"]\n",
    "\n",
    "# Call the function to remove outliers\n",
    "data_train_cleaned = remove_outliers_iqr(data_train_abs, columns_to_clean)\n",
    "\n",
    "print(data_train_cleaned)\n"
   ]
  },
  {
   "cell_type": "code",
   "execution_count": null,
   "metadata": {},
   "outputs": [],
   "source": []
  },
  {
   "cell_type": "code",
   "execution_count": null,
   "metadata": {},
   "outputs": [],
   "source": []
  }
 ],
 "metadata": {
  "kernelspec": {
   "display_name": "Python 3 (ipykernel)",
   "language": "python",
   "name": "python3"
  },
  "language_info": {
   "codemirror_mode": {
    "name": "ipython",
    "version": 3
   },
   "file_extension": ".py",
   "mimetype": "text/x-python",
   "name": "python",
   "nbconvert_exporter": "python",
   "pygments_lexer": "ipython3",
   "version": "3.11.7"
  }
 },
 "nbformat": 4,
 "nbformat_minor": 2
}
